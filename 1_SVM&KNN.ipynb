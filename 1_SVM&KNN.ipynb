{
  "nbformat": 4,
  "nbformat_minor": 0,
  "metadata": {
    "colab": {
      "provenance": [],
      "authorship_tag": "ABX9TyNtlrkFb6Frm96JWXj2dtfk",
      "include_colab_link": true
    },
    "kernelspec": {
      "name": "python3",
      "display_name": "Python 3"
    },
    "language_info": {
      "name": "python"
    }
  },
  "cells": [
    {
      "cell_type": "markdown",
      "metadata": {
        "id": "view-in-github",
        "colab_type": "text"
      },
      "source": [
        "<a href=\"https://colab.research.google.com/github/jiao-xx/stats/blob/main/1_SVM%26KNN.ipynb\" target=\"_parent\"><img src=\"https://colab.research.google.com/assets/colab-badge.svg\" alt=\"Open In Colab\"/></a>"
      ]
    },
    {
      "cell_type": "markdown",
      "source": [
        "The dataset provided contains information about credit card applications. Each row in the dataset represents an individual credit card application, and the columns represent various features or attributes of those applications (like income, age, etc.). The last column indicates whether the application was approved (positive) or not (negative).\n",
        "\n"
      ],
      "metadata": {
        "id": "mqNSglhl8Ihd"
      }
    },
    {
      "cell_type": "code",
      "execution_count": 1,
      "metadata": {
        "colab": {
          "base_uri": "https://localhost:8080/"
        },
        "id": "RtYmnpavupJ6",
        "outputId": "a3899d20-5e43-451a-9451-19c11edc00cf"
      },
      "outputs": [
        {
          "output_type": "stream",
          "name": "stdout",
          "text": [
            "Drive already mounted at /content/drive; to attempt to forcibly remount, call drive.mount(\"/content/drive\", force_remount=True).\n"
          ]
        }
      ],
      "source": [
        "# Third-Party Libraries\n",
        "import matplotlib.pyplot as plt\n",
        "import numpy as np\n",
        "import pandas as pd\n",
        "\n",
        "# Google Colab-specific\n",
        "from google.colab import drive\n",
        "\n",
        "\n",
        "drive.mount('/content/drive')"
      ]
    },
    {
      "cell_type": "code",
      "source": [
        "%cd drive/MyDrive/math"
      ],
      "metadata": {
        "id": "_GElgrslv5Jw",
        "outputId": "882e1527-3dc0-4d89-fa9c-9c52c73a2846",
        "colab": {
          "base_uri": "https://localhost:8080/"
        }
      },
      "execution_count": 2,
      "outputs": [
        {
          "output_type": "stream",
          "name": "stdout",
          "text": [
            "/content/drive/MyDrive/math\n"
          ]
        }
      ]
    },
    {
      "cell_type": "code",
      "source": [
        "dataset = pd.read_csv('credit_card_data-headers.txt', sep = '\\t')\n",
        "\n",
        "dataset.head()"
      ],
      "metadata": {
        "colab": {
          "base_uri": "https://localhost:8080/",
          "height": 206
        },
        "id": "5heUKqFBwKSn",
        "outputId": "d6916ada-0506-4746-d754-5592a8575506"
      },
      "execution_count": 9,
      "outputs": [
        {
          "output_type": "execute_result",
          "data": {
            "text/plain": [
              "   A1     A2     A3    A8  A9  A10  A11  A12  A14  A15  R1\n",
              "0   1  30.83  0.000  1.25   1    0    1    1  202    0   1\n",
              "1   0  58.67  4.460  3.04   1    0    6    1   43  560   1\n",
              "2   0  24.50  0.500  1.50   1    1    0    1  280  824   1\n",
              "3   1  27.83  1.540  3.75   1    0    5    0  100    3   1\n",
              "4   1  20.17  5.625  1.71   1    1    0    1  120    0   1"
            ],
            "text/html": [
              "\n",
              "\n",
              "  <div id=\"df-0b2b2c83-73ae-4d35-89c4-d3b6f1378777\">\n",
              "    <div class=\"colab-df-container\">\n",
              "      <div>\n",
              "<style scoped>\n",
              "    .dataframe tbody tr th:only-of-type {\n",
              "        vertical-align: middle;\n",
              "    }\n",
              "\n",
              "    .dataframe tbody tr th {\n",
              "        vertical-align: top;\n",
              "    }\n",
              "\n",
              "    .dataframe thead th {\n",
              "        text-align: right;\n",
              "    }\n",
              "</style>\n",
              "<table border=\"1\" class=\"dataframe\">\n",
              "  <thead>\n",
              "    <tr style=\"text-align: right;\">\n",
              "      <th></th>\n",
              "      <th>A1</th>\n",
              "      <th>A2</th>\n",
              "      <th>A3</th>\n",
              "      <th>A8</th>\n",
              "      <th>A9</th>\n",
              "      <th>A10</th>\n",
              "      <th>A11</th>\n",
              "      <th>A12</th>\n",
              "      <th>A14</th>\n",
              "      <th>A15</th>\n",
              "      <th>R1</th>\n",
              "    </tr>\n",
              "  </thead>\n",
              "  <tbody>\n",
              "    <tr>\n",
              "      <th>0</th>\n",
              "      <td>1</td>\n",
              "      <td>30.83</td>\n",
              "      <td>0.000</td>\n",
              "      <td>1.25</td>\n",
              "      <td>1</td>\n",
              "      <td>0</td>\n",
              "      <td>1</td>\n",
              "      <td>1</td>\n",
              "      <td>202</td>\n",
              "      <td>0</td>\n",
              "      <td>1</td>\n",
              "    </tr>\n",
              "    <tr>\n",
              "      <th>1</th>\n",
              "      <td>0</td>\n",
              "      <td>58.67</td>\n",
              "      <td>4.460</td>\n",
              "      <td>3.04</td>\n",
              "      <td>1</td>\n",
              "      <td>0</td>\n",
              "      <td>6</td>\n",
              "      <td>1</td>\n",
              "      <td>43</td>\n",
              "      <td>560</td>\n",
              "      <td>1</td>\n",
              "    </tr>\n",
              "    <tr>\n",
              "      <th>2</th>\n",
              "      <td>0</td>\n",
              "      <td>24.50</td>\n",
              "      <td>0.500</td>\n",
              "      <td>1.50</td>\n",
              "      <td>1</td>\n",
              "      <td>1</td>\n",
              "      <td>0</td>\n",
              "      <td>1</td>\n",
              "      <td>280</td>\n",
              "      <td>824</td>\n",
              "      <td>1</td>\n",
              "    </tr>\n",
              "    <tr>\n",
              "      <th>3</th>\n",
              "      <td>1</td>\n",
              "      <td>27.83</td>\n",
              "      <td>1.540</td>\n",
              "      <td>3.75</td>\n",
              "      <td>1</td>\n",
              "      <td>0</td>\n",
              "      <td>5</td>\n",
              "      <td>0</td>\n",
              "      <td>100</td>\n",
              "      <td>3</td>\n",
              "      <td>1</td>\n",
              "    </tr>\n",
              "    <tr>\n",
              "      <th>4</th>\n",
              "      <td>1</td>\n",
              "      <td>20.17</td>\n",
              "      <td>5.625</td>\n",
              "      <td>1.71</td>\n",
              "      <td>1</td>\n",
              "      <td>1</td>\n",
              "      <td>0</td>\n",
              "      <td>1</td>\n",
              "      <td>120</td>\n",
              "      <td>0</td>\n",
              "      <td>1</td>\n",
              "    </tr>\n",
              "  </tbody>\n",
              "</table>\n",
              "</div>\n",
              "      <button class=\"colab-df-convert\" onclick=\"convertToInteractive('df-0b2b2c83-73ae-4d35-89c4-d3b6f1378777')\"\n",
              "              title=\"Convert this dataframe to an interactive table.\"\n",
              "              style=\"display:none;\">\n",
              "\n",
              "  <svg xmlns=\"http://www.w3.org/2000/svg\" height=\"24px\"viewBox=\"0 0 24 24\"\n",
              "       width=\"24px\">\n",
              "    <path d=\"M0 0h24v24H0V0z\" fill=\"none\"/>\n",
              "    <path d=\"M18.56 5.44l.94 2.06.94-2.06 2.06-.94-2.06-.94-.94-2.06-.94 2.06-2.06.94zm-11 1L8.5 8.5l.94-2.06 2.06-.94-2.06-.94L8.5 2.5l-.94 2.06-2.06.94zm10 10l.94 2.06.94-2.06 2.06-.94-2.06-.94-.94-2.06-.94 2.06-2.06.94z\"/><path d=\"M17.41 7.96l-1.37-1.37c-.4-.4-.92-.59-1.43-.59-.52 0-1.04.2-1.43.59L10.3 9.45l-7.72 7.72c-.78.78-.78 2.05 0 2.83L4 21.41c.39.39.9.59 1.41.59.51 0 1.02-.2 1.41-.59l7.78-7.78 2.81-2.81c.8-.78.8-2.07 0-2.86zM5.41 20L4 18.59l7.72-7.72 1.47 1.35L5.41 20z\"/>\n",
              "  </svg>\n",
              "      </button>\n",
              "\n",
              "\n",
              "\n",
              "    <div id=\"df-3b131b19-3d08-4e7a-a327-27c9ee783fcc\">\n",
              "      <button class=\"colab-df-quickchart\" onclick=\"quickchart('df-3b131b19-3d08-4e7a-a327-27c9ee783fcc')\"\n",
              "              title=\"Suggest charts.\"\n",
              "              style=\"display:none;\">\n",
              "\n",
              "<svg xmlns=\"http://www.w3.org/2000/svg\" height=\"24px\"viewBox=\"0 0 24 24\"\n",
              "     width=\"24px\">\n",
              "    <g>\n",
              "        <path d=\"M19 3H5c-1.1 0-2 .9-2 2v14c0 1.1.9 2 2 2h14c1.1 0 2-.9 2-2V5c0-1.1-.9-2-2-2zM9 17H7v-7h2v7zm4 0h-2V7h2v10zm4 0h-2v-4h2v4z\"/>\n",
              "    </g>\n",
              "</svg>\n",
              "      </button>\n",
              "    </div>\n",
              "\n",
              "<style>\n",
              "  .colab-df-quickchart {\n",
              "    background-color: #E8F0FE;\n",
              "    border: none;\n",
              "    border-radius: 50%;\n",
              "    cursor: pointer;\n",
              "    display: none;\n",
              "    fill: #1967D2;\n",
              "    height: 32px;\n",
              "    padding: 0 0 0 0;\n",
              "    width: 32px;\n",
              "  }\n",
              "\n",
              "  .colab-df-quickchart:hover {\n",
              "    background-color: #E2EBFA;\n",
              "    box-shadow: 0px 1px 2px rgba(60, 64, 67, 0.3), 0px 1px 3px 1px rgba(60, 64, 67, 0.15);\n",
              "    fill: #174EA6;\n",
              "  }\n",
              "\n",
              "  [theme=dark] .colab-df-quickchart {\n",
              "    background-color: #3B4455;\n",
              "    fill: #D2E3FC;\n",
              "  }\n",
              "\n",
              "  [theme=dark] .colab-df-quickchart:hover {\n",
              "    background-color: #434B5C;\n",
              "    box-shadow: 0px 1px 3px 1px rgba(0, 0, 0, 0.15);\n",
              "    filter: drop-shadow(0px 1px 2px rgba(0, 0, 0, 0.3));\n",
              "    fill: #FFFFFF;\n",
              "  }\n",
              "</style>\n",
              "\n",
              "    <script>\n",
              "      async function quickchart(key) {\n",
              "        const containerElement = document.querySelector('#' + key);\n",
              "        const charts = await google.colab.kernel.invokeFunction(\n",
              "            'suggestCharts', [key], {});\n",
              "      }\n",
              "    </script>\n",
              "\n",
              "      <script>\n",
              "\n",
              "function displayQuickchartButton(domScope) {\n",
              "  let quickchartButtonEl =\n",
              "    domScope.querySelector('#df-3b131b19-3d08-4e7a-a327-27c9ee783fcc button.colab-df-quickchart');\n",
              "  quickchartButtonEl.style.display =\n",
              "    google.colab.kernel.accessAllowed ? 'block' : 'none';\n",
              "}\n",
              "\n",
              "        displayQuickchartButton(document);\n",
              "      </script>\n",
              "      <style>\n",
              "    .colab-df-container {\n",
              "      display:flex;\n",
              "      flex-wrap:wrap;\n",
              "      gap: 12px;\n",
              "    }\n",
              "\n",
              "    .colab-df-convert {\n",
              "      background-color: #E8F0FE;\n",
              "      border: none;\n",
              "      border-radius: 50%;\n",
              "      cursor: pointer;\n",
              "      display: none;\n",
              "      fill: #1967D2;\n",
              "      height: 32px;\n",
              "      padding: 0 0 0 0;\n",
              "      width: 32px;\n",
              "    }\n",
              "\n",
              "    .colab-df-convert:hover {\n",
              "      background-color: #E2EBFA;\n",
              "      box-shadow: 0px 1px 2px rgba(60, 64, 67, 0.3), 0px 1px 3px 1px rgba(60, 64, 67, 0.15);\n",
              "      fill: #174EA6;\n",
              "    }\n",
              "\n",
              "    [theme=dark] .colab-df-convert {\n",
              "      background-color: #3B4455;\n",
              "      fill: #D2E3FC;\n",
              "    }\n",
              "\n",
              "    [theme=dark] .colab-df-convert:hover {\n",
              "      background-color: #434B5C;\n",
              "      box-shadow: 0px 1px 3px 1px rgba(0, 0, 0, 0.15);\n",
              "      filter: drop-shadow(0px 1px 2px rgba(0, 0, 0, 0.3));\n",
              "      fill: #FFFFFF;\n",
              "    }\n",
              "  </style>\n",
              "\n",
              "      <script>\n",
              "        const buttonEl =\n",
              "          document.querySelector('#df-0b2b2c83-73ae-4d35-89c4-d3b6f1378777 button.colab-df-convert');\n",
              "        buttonEl.style.display =\n",
              "          google.colab.kernel.accessAllowed ? 'block' : 'none';\n",
              "\n",
              "        async function convertToInteractive(key) {\n",
              "          const element = document.querySelector('#df-0b2b2c83-73ae-4d35-89c4-d3b6f1378777');\n",
              "          const dataTable =\n",
              "            await google.colab.kernel.invokeFunction('convertToInteractive',\n",
              "                                                     [key], {});\n",
              "          if (!dataTable) return;\n",
              "\n",
              "          const docLinkHtml = 'Like what you see? Visit the ' +\n",
              "            '<a target=\"_blank\" href=https://colab.research.google.com/notebooks/data_table.ipynb>data table notebook</a>'\n",
              "            + ' to learn more about interactive tables.';\n",
              "          element.innerHTML = '';\n",
              "          dataTable['output_type'] = 'display_data';\n",
              "          await google.colab.output.renderOutput(dataTable, element);\n",
              "          const docLink = document.createElement('div');\n",
              "          docLink.innerHTML = docLinkHtml;\n",
              "          element.appendChild(docLink);\n",
              "        }\n",
              "      </script>\n",
              "    </div>\n",
              "  </div>\n"
            ]
          },
          "metadata": {},
          "execution_count": 9
        }
      ]
    },
    {
      "cell_type": "markdown",
      "source": [
        "# Task 1\n",
        "\n",
        "Support Vector Machine (SVM):\n",
        "\n",
        "\n",
        "Purpose: Use an SVM to determine whether a credit card application will be approved or not based on the given features. In other words, trying to create a decision boundary or rule that can separate the approved applications from the rejected ones.\n",
        "\n",
        "\n",
        "Implication: Using SVM on this dataset means you're trying to find the best \"line\" (or in more complex scenarios, a \"plane\" or \"boundary\") that separates the data into two categories: approved and not approved. Imagine plotting all the applications on a graph; SVM will try to draw a line so that all the approvals are on one side and the rejections are on the other."
      ],
      "metadata": {
        "id": "TOx4KWUe8sEg"
      }
    },
    {
      "cell_type": "markdown",
      "source": [
        "1. First, we'll handle the Support Vector Machine (SVM) task using the SVC class from the scikit-learn library.\n",
        "\n",
        "2. We'll follow the guidelines mentioned in the question, using a linear kernel and experimenting with different values of the hyperparameter C.\n",
        "\n",
        "3. We'll also scale the features as suggested in the question."
      ],
      "metadata": {
        "id": "L6JaexTI0oqa"
      }
    },
    {
      "cell_type": "code",
      "source": [
        "from sklearn.svm import SVC\n",
        "from sklearn.preprocessing import StandardScaler\n",
        "from sklearn.metrics import accuracy_score\n",
        "\n",
        "# Split the dataset into features (X) and labels (y)\n",
        "# X 是特征数据，取 dataset 的所有行和除了最后一列的所有列。\n",
        "# y 是标签数据，取 dataset 的所有行的最后一列。\n",
        "X = dataset.iloc[:, :-1]\n",
        "y = dataset.iloc[:, -1]\n",
        "\n",
        "# Scale the features\n",
        "scaler = StandardScaler()\n",
        "X_scaled = scaler.fit_transform(X)\n",
        "\n",
        "# Create a SVM model with a linear kernel\n",
        "# Experiment with different values of C (e.g., 100) to find a good classifier\n",
        "C_value = 100\n",
        "svm_model = SVC(kernel='linear', C=C_value)\n",
        "svm_model.fit(X_scaled, y)\n",
        "\n",
        "# Get the predictions\n",
        "svm_predictions = svm_model.predict(X_scaled)\n",
        "\n",
        "# Calculate the accuracy of the model\n",
        "svm_accuracy = accuracy_score(y, svm_predictions)\n",
        "svm_accuracy\n"
      ],
      "metadata": {
        "colab": {
          "base_uri": "https://localhost:8080/"
        },
        "id": "gZKQcjA30qYW",
        "outputId": "31882c69-669d-48ea-c036-5ad8c46188c3"
      },
      "execution_count": 10,
      "outputs": [
        {
          "output_type": "execute_result",
          "data": {
            "text/plain": [
              "0.863914373088685"
            ]
          },
          "metadata": {},
          "execution_count": 10
        }
      ]
    },
    {
      "cell_type": "markdown",
      "source": [
        "The Support Vector Machine (SVM) model with a linear kernel and\n",
        "C = 100 achieved an accuracy of approximately 86.39% on the full dataset."
      ],
      "metadata": {
        "id": "remPMaC41BAA"
      }
    },
    {
      "cell_type": "markdown",
      "source": [
        "C = 100: 这是 SVM 的一个重要参数，称为正则化参数。它控制模型的复杂度和容错能力：\n",
        "\n",
        "C 值较小: 模型会更简单，容忍一些误分类，但可能不会过度拟合数据。\n",
        "\n",
        "C 值较大: 模型会尽量减少训练数据的误分类，但可能会过度拟合，导致在新数据上的表现不佳。\n",
        "在这里，C=100 可以被认为是一个相对较大的值，这意味着模型会尽量减少训练数据的误分类。"
      ],
      "metadata": {
        "id": "c1_yZD5k_3xz"
      }
    },
    {
      "cell_type": "markdown",
      "source": [
        "Given the equation:\n",
        "{decision\\_function} = a_1 * x_1 + a_2 * x_2 + ... + a_m * x_m + a_0 \\]\n",
        "\n",
        "\n",
        "Where:\n",
        "- ( a_i ) (for ( i = 1, 2, ..., m )) are the coefficients.\n",
        "- ( a_0 ) is the intercept."
      ],
      "metadata": {
        "id": "VPy93Zmp1MdY"
      }
    },
    {
      "cell_type": "code",
      "source": [
        "# Extract the coefficients (a1...am) and intercept (a0) of the model\n",
        "coefficients = svm_model.coef_[0]\n",
        "intercept = svm_model.intercept_[0]\n",
        "\n",
        "# Display the coefficients and intercept\n",
        "coefficients, intercept\n"
      ],
      "metadata": {
        "colab": {
          "base_uri": "https://localhost:8080/"
        },
        "id": "nH-XYQEL1FHB",
        "outputId": "92141382-19f9-4344-f826-b59d0313452d"
      },
      "execution_count": 14,
      "outputs": [
        {
          "output_type": "execute_result",
          "data": {
            "text/plain": [
              "(array([-8.54344736e-04, -1.54748550e-03, -1.37028989e-03,  2.67436548e-03,\n",
              "         1.00473936e+00, -2.37745609e-03,  8.49701231e-05, -5.32250557e-04,\n",
              "        -1.53192990e-03,  1.06293893e-01]),\n",
              " 0.08135935298850694)"
            ]
          },
          "metadata": {},
          "execution_count": 14
        }
      ]
    },
    {
      "cell_type": "markdown",
      "source": [
        "The equation of the SVM classifier can be represented as:\n",
        "\\begin{align*}\n",
        "\\text{{decision\\_function}} & = (-8.54 \\times 10^{-4}) \\cdot x_1 + (-1.55 \\times 10^{-3}) \\cdot x_2 + (-1.37 \\times 10^{-3}) \\cdot x_3 + (2.67 \\times 10^{-3}) \\cdot x_4 \\\\\n",
        "& \\quad + (1.00) \\cdot x_5 + (-2.38 \\times 10^{-3}) \\cdot x_6 + (8.50 \\times 10^{-5}) \\cdot x_7 + (-5.32 \\times 10^{-4}) \\cdot x_8 \\\\\n",
        "& \\quad + (-1.53 \\times 10^{-3}) \\cdot x_9 + (0.11) \\cdot x_{10} + 0.0814\n",
        "\\end{align*}\n",
        "\\]"
      ],
      "metadata": {
        "id": "7XCaYD1_2q3h"
      }
    },
    {
      "cell_type": "markdown",
      "source": [
        "# Task 2\n",
        "\n",
        "k-Nearest Neighbors (k-NN):\n",
        "\n",
        "Purpose: This is another method to predict whether a credit card application will be approved or not. It works by looking at the 'k' most similar applications and then making a decision based on their outcomes. For example, if\n",
        "k = 3, and for a particular application, 2 out of the 3 nearest applications were approved and 1 was rejected, the method would predict an approval for this application.\n",
        "\n",
        "\n",
        "Implication: Using k-NN means you're trying to predict the outcome of an application by looking at the outcomes of the most similar applications in the dataset. It's like asking a group of your closest friends for advice and then going with the majority opinion.\n"
      ],
      "metadata": {
        "id": "eK5G3SfI33uv"
      }
    },
    {
      "cell_type": "markdown",
      "source": [
        "1. We will use the KNeighborsClassifier class from the scikit-learn library.\n",
        "\n",
        "2. As mentioned in the question, to estimate the performance, we will perform a leave-one-out cross-validation, where we predict the label for each data point using all other points as the training set.\n",
        "\n",
        "3. For each value of k, we will calculate the accuracy to determine the best value for k."
      ],
      "metadata": {
        "id": "4amGp3aJ3dg3"
      }
    },
    {
      "cell_type": "markdown",
      "source": [
        "However, this is time consuming."
      ],
      "metadata": {
        "id": "1aBNLyCz4HCJ"
      }
    },
    {
      "cell_type": "code",
      "source": [
        "from sklearn.neighbors import KNeighborsClassifier\n",
        "from sklearn.model_selection import LeaveOneOut\n",
        "\n",
        "# Initialize the LeaveOneOut cross-validator\n",
        "loo = LeaveOneOut()\n",
        "\n",
        "# Define a range of k values to test\n",
        "k_values = list(range(1, 51))  # Testing k values from 1 to 50\n",
        "accuracies = []\n",
        "\n",
        "# For each value of k, perform leave-one-out cross-validation\n",
        "for k in k_values:\n",
        "    knn_model = KNeighborsClassifier(n_neighbors=k)\n",
        "    correct_predictions = 0\n",
        "    for train_index, test_index in loo.split(X_scaled):\n",
        "        X_train, X_test = X_scaled[train_index], X_scaled[test_index]\n",
        "        y_train, y_test = y.iloc[train_index], y.iloc[test_index]\n",
        "        knn_model.fit(X_train, y_train)\n",
        "        y_pred = knn_model.predict(X_test)\n",
        "        if y_pred == y_test.values:\n",
        "            correct_predictions += 1\n",
        "    accuracy = correct_predictions / len(y)\n",
        "    accuracies.append(accuracy)\n",
        "\n",
        "# Get the best value of k and its corresponding accuracy\n",
        "best_k = k_values[accuracies.index(max(accuracies))]\n",
        "best_accuracy = max(accuracies)\n",
        "\n",
        "best_k, best_accuracy\n"
      ],
      "metadata": {
        "colab": {
          "base_uri": "https://localhost:8080/"
        },
        "id": "AjBMhIXA24Mm",
        "outputId": "c8a992b8-f2b1-48f8-a832-2a78e94b8902"
      },
      "execution_count": 12,
      "outputs": [
        {
          "output_type": "execute_result",
          "data": {
            "text/plain": [
              "(22, 0.8532110091743119)"
            ]
          },
          "metadata": {},
          "execution_count": 12
        }
      ]
    },
    {
      "cell_type": "markdown",
      "source": [
        "1. We'll split the dataset into training and test sets, maintaining a sufficient amount of data for training.\n",
        "\n",
        "2. We'll use the training set to train the k-NN model and the test set for validation.\n",
        "\n",
        "3. We'll still iterate over a range of k values to find the best one.\n"
      ],
      "metadata": {
        "id": "_9kyxhtN4LnI"
      }
    },
    {
      "cell_type": "code",
      "source": [
        "from sklearn.model_selection import train_test_split\n",
        "\n",
        "# Split the dataset into training and test sets (80% training, 20% testing)\n",
        "X_train, X_test, y_train, y_test = train_test_split(X_scaled, y, test_size=0.2, random_state=42)\n",
        "\n",
        "accuracies_split = []\n",
        "\n",
        "# For each value of k, train on the training set and validate on the test set\n",
        "for k in k_values:\n",
        "    knn_model = KNeighborsClassifier(n_neighbors=k)\n",
        "    knn_model.fit(X_train, y_train)\n",
        "    y_pred = knn_model.predict(X_test)\n",
        "    accuracy = accuracy_score(y_test, y_pred)\n",
        "    accuracies_split.append(accuracy)\n",
        "\n",
        "# Get the best value of k and its corresponding accuracy from the split dataset approach\n",
        "best_k_split = k_values[accuracies_split.index(max(accuracies_split))]\n",
        "best_accuracy_split = max(accuracies_split)\n",
        "\n",
        "best_k_split, best_accuracy_split\n"
      ],
      "metadata": {
        "colab": {
          "base_uri": "https://localhost:8080/"
        },
        "id": "VyVLMAAO4YpA",
        "outputId": "db4f0b58-8370-4796-f6af-6cf84ef91804"
      },
      "execution_count": 13,
      "outputs": [
        {
          "output_type": "execute_result",
          "data": {
            "text/plain": [
              "(32, 0.8625954198473282)"
            ]
          },
          "metadata": {},
          "execution_count": 13
        }
      ]
    },
    {
      "cell_type": "markdown",
      "source": [
        "1. **Leave-One-Out Cross-Validation (LOOCV)**:\n",
        "    - **Pros**: Uses the entire dataset for both training and validation, making the most out of the available data. It's especially useful when the dataset is small.\n",
        "    - **Cons**: Computationally expensive, especially for algorithms like k-NN. The validation error rate can have high variance since only one observation is left out for validation.\n",
        "  \n",
        "2. **Train-Test Split**:\n",
        "    - **Pros**: Faster and computationally less expensive. Can give a more realistic estimate of the model's performance on unseen data.\n",
        "    - **Cons**: The validation performance can be sensitive to the split of the data. This can be mitigated using techniques like k-fold cross-validation.\n",
        "\n",
        "Given the results you obtained using LOOCV (\\( k = 22 \\) with 85% accuracy) and the results from the train-test split approach (\\( k = 32 \\) with 86.26% accuracy), here's how you can decide:\n",
        "\n",
        "- **If computational efficiency is a concern**: Consider the train-test split result. It's faster and still gives a reasonably good estimate of model performance.\n",
        "  \n",
        "- **If maximizing the use of available data is a priority**: Use the LOOCV result. It uses the entire dataset for evaluation, which might be especially useful if the dataset is not large.\n",
        "\n",
        "- **Consider the application**: If false positives/negatives have significant consequences in the application of your model, it might be worth investing the computational time in LOOCV or even k-fold cross-validation to get a more reliable estimate of performance.\n",
        "\n",
        "Both results are reasonably close in terms of accuracy. Might consider validating both models on that new data to see which one performs better in practice."
      ],
      "metadata": {
        "id": "7QVuF1Ze5Ggr"
      }
    }
  ]
}